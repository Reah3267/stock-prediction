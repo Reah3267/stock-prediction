{
 "cells": [
  {
   "cell_type": "code",
   "execution_count": 173,
   "id": "a1c76d18",
   "metadata": {},
   "outputs": [],
   "source": [
    "import numpy as np\n"
   ]
  },
  {
   "cell_type": "code",
   "execution_count": 174,
   "id": "1deee42e",
   "metadata": {},
   "outputs": [],
   "source": [
    "import pandas as pd\n"
   ]
  },
  {
   "cell_type": "code",
   "execution_count": 175,
   "id": "7684dd29",
   "metadata": {},
   "outputs": [],
   "source": [
    "import matplotlib.pyplot as plt"
   ]
  },
  {
   "cell_type": "code",
   "execution_count": 176,
   "id": "a7f489f0",
   "metadata": {},
   "outputs": [],
   "source": [
    "import tensorflow as tf"
   ]
  },
  {
   "cell_type": "code",
   "execution_count": 177,
   "id": "58325c88",
   "metadata": {},
   "outputs": [
    {
     "name": "stdout",
     "output_type": "stream",
     "text": [
      "Requirement already satisfied: tensorflow in c:\\users\\riya\\anaconda3\\lib\\site-packages (2.13.0)\n",
      "Requirement already satisfied: tensorflow-intel==2.13.0 in c:\\users\\riya\\anaconda3\\lib\\site-packages (from tensorflow) (2.13.0)\n",
      "Requirement already satisfied: absl-py>=1.0.0 in c:\\users\\riya\\anaconda3\\lib\\site-packages (from tensorflow-intel==2.13.0->tensorflow) (2.0.0)\n",
      "Requirement already satisfied: astunparse>=1.6.0 in c:\\users\\riya\\anaconda3\\lib\\site-packages (from tensorflow-intel==2.13.0->tensorflow) (1.6.3)\n",
      "Requirement already satisfied: flatbuffers>=23.1.21 in c:\\users\\riya\\anaconda3\\lib\\site-packages (from tensorflow-intel==2.13.0->tensorflow) (23.5.26)\n",
      "Requirement already satisfied: gast<=0.4.0,>=0.2.1 in c:\\users\\riya\\anaconda3\\lib\\site-packages (from tensorflow-intel==2.13.0->tensorflow) (0.4.0)\n",
      "Requirement already satisfied: google-pasta>=0.1.1 in c:\\users\\riya\\anaconda3\\lib\\site-packages (from tensorflow-intel==2.13.0->tensorflow) (0.2.0)\n",
      "Requirement already satisfied: h5py>=2.9.0 in c:\\users\\riya\\anaconda3\\lib\\site-packages (from tensorflow-intel==2.13.0->tensorflow) (3.7.0)\n",
      "Requirement already satisfied: libclang>=13.0.0 in c:\\users\\riya\\anaconda3\\lib\\site-packages (from tensorflow-intel==2.13.0->tensorflow) (16.0.6)\n",
      "Requirement already satisfied: numpy<=1.24.3,>=1.22 in c:\\users\\riya\\anaconda3\\lib\\site-packages (from tensorflow-intel==2.13.0->tensorflow) (1.24.3)\n",
      "Requirement already satisfied: opt-einsum>=2.3.2 in c:\\users\\riya\\anaconda3\\lib\\site-packages (from tensorflow-intel==2.13.0->tensorflow) (3.3.0)\n",
      "Requirement already satisfied: packaging in c:\\users\\riya\\anaconda3\\lib\\site-packages (from tensorflow-intel==2.13.0->tensorflow) (23.0)\n",
      "Requirement already satisfied: protobuf!=4.21.0,!=4.21.1,!=4.21.2,!=4.21.3,!=4.21.4,!=4.21.5,<5.0.0dev,>=3.20.3 in c:\\users\\riya\\anaconda3\\lib\\site-packages (from tensorflow-intel==2.13.0->tensorflow) (4.24.3)\n",
      "Requirement already satisfied: setuptools in c:\\users\\riya\\anaconda3\\lib\\site-packages (from tensorflow-intel==2.13.0->tensorflow) (68.0.0)\n",
      "Requirement already satisfied: six>=1.12.0 in c:\\users\\riya\\anaconda3\\lib\\site-packages (from tensorflow-intel==2.13.0->tensorflow) (1.16.0)\n",
      "Requirement already satisfied: termcolor>=1.1.0 in c:\\users\\riya\\anaconda3\\lib\\site-packages (from tensorflow-intel==2.13.0->tensorflow) (2.3.0)\n",
      "Requirement already satisfied: typing-extensions<4.6.0,>=3.6.6 in c:\\users\\riya\\anaconda3\\lib\\site-packages (from tensorflow-intel==2.13.0->tensorflow) (4.5.0)\n",
      "Requirement already satisfied: wrapt>=1.11.0 in c:\\users\\riya\\anaconda3\\lib\\site-packages (from tensorflow-intel==2.13.0->tensorflow) (1.14.1)\n",
      "Requirement already satisfied: grpcio<2.0,>=1.24.3 in c:\\users\\riya\\anaconda3\\lib\\site-packages (from tensorflow-intel==2.13.0->tensorflow) (1.58.0)\n",
      "Requirement already satisfied: tensorboard<2.14,>=2.13 in c:\\users\\riya\\anaconda3\\lib\\site-packages (from tensorflow-intel==2.13.0->tensorflow) (2.13.0)\n",
      "Requirement already satisfied: tensorflow-estimator<2.14,>=2.13.0 in c:\\users\\riya\\anaconda3\\lib\\site-packages (from tensorflow-intel==2.13.0->tensorflow) (2.13.0)\n",
      "Requirement already satisfied: keras<2.14,>=2.13.1 in c:\\users\\riya\\anaconda3\\lib\\site-packages (from tensorflow-intel==2.13.0->tensorflow) (2.13.1)\n",
      "Requirement already satisfied: tensorflow-io-gcs-filesystem>=0.23.1 in c:\\users\\riya\\anaconda3\\lib\\site-packages (from tensorflow-intel==2.13.0->tensorflow) (0.31.0)\n",
      "Requirement already satisfied: wheel<1.0,>=0.23.0 in c:\\users\\riya\\anaconda3\\lib\\site-packages (from astunparse>=1.6.0->tensorflow-intel==2.13.0->tensorflow) (0.38.4)\n",
      "Requirement already satisfied: google-auth<3,>=1.6.3 in c:\\users\\riya\\anaconda3\\lib\\site-packages (from tensorboard<2.14,>=2.13->tensorflow-intel==2.13.0->tensorflow) (2.23.0)\n",
      "Requirement already satisfied: google-auth-oauthlib<1.1,>=0.5 in c:\\users\\riya\\anaconda3\\lib\\site-packages (from tensorboard<2.14,>=2.13->tensorflow-intel==2.13.0->tensorflow) (1.0.0)\n",
      "Requirement already satisfied: markdown>=2.6.8 in c:\\users\\riya\\anaconda3\\lib\\site-packages (from tensorboard<2.14,>=2.13->tensorflow-intel==2.13.0->tensorflow) (3.4.1)\n",
      "Requirement already satisfied: requests<3,>=2.21.0 in c:\\users\\riya\\anaconda3\\lib\\site-packages (from tensorboard<2.14,>=2.13->tensorflow-intel==2.13.0->tensorflow) (2.31.0)\n",
      "Requirement already satisfied: tensorboard-data-server<0.8.0,>=0.7.0 in c:\\users\\riya\\anaconda3\\lib\\site-packages (from tensorboard<2.14,>=2.13->tensorflow-intel==2.13.0->tensorflow) (0.7.1)\n",
      "Requirement already satisfied: werkzeug>=1.0.1 in c:\\users\\riya\\anaconda3\\lib\\site-packages (from tensorboard<2.14,>=2.13->tensorflow-intel==2.13.0->tensorflow) (2.2.3)\n",
      "Requirement already satisfied: cachetools<6.0,>=2.0.0 in c:\\users\\riya\\anaconda3\\lib\\site-packages (from google-auth<3,>=1.6.3->tensorboard<2.14,>=2.13->tensorflow-intel==2.13.0->tensorflow) (5.3.1)\n",
      "Requirement already satisfied: pyasn1-modules>=0.2.1 in c:\\users\\riya\\anaconda3\\lib\\site-packages (from google-auth<3,>=1.6.3->tensorboard<2.14,>=2.13->tensorflow-intel==2.13.0->tensorflow) (0.2.8)\n",
      "Requirement already satisfied: rsa<5,>=3.1.4 in c:\\users\\riya\\anaconda3\\lib\\site-packages (from google-auth<3,>=1.6.3->tensorboard<2.14,>=2.13->tensorflow-intel==2.13.0->tensorflow) (4.9)\n",
      "Requirement already satisfied: urllib3<2.0 in c:\\users\\riya\\anaconda3\\lib\\site-packages (from google-auth<3,>=1.6.3->tensorboard<2.14,>=2.13->tensorflow-intel==2.13.0->tensorflow) (1.26.16)\n",
      "Requirement already satisfied: requests-oauthlib>=0.7.0 in c:\\users\\riya\\anaconda3\\lib\\site-packages (from google-auth-oauthlib<1.1,>=0.5->tensorboard<2.14,>=2.13->tensorflow-intel==2.13.0->tensorflow) (1.3.1)\n",
      "Requirement already satisfied: charset-normalizer<4,>=2 in c:\\users\\riya\\anaconda3\\lib\\site-packages (from requests<3,>=2.21.0->tensorboard<2.14,>=2.13->tensorflow-intel==2.13.0->tensorflow) (2.0.4)\n",
      "Requirement already satisfied: idna<4,>=2.5 in c:\\users\\riya\\anaconda3\\lib\\site-packages (from requests<3,>=2.21.0->tensorboard<2.14,>=2.13->tensorflow-intel==2.13.0->tensorflow) (3.4)\n",
      "Requirement already satisfied: certifi>=2017.4.17 in c:\\users\\riya\\anaconda3\\lib\\site-packages (from requests<3,>=2.21.0->tensorboard<2.14,>=2.13->tensorflow-intel==2.13.0->tensorflow) (2023.7.22)\n",
      "Requirement already satisfied: MarkupSafe>=2.1.1 in c:\\users\\riya\\anaconda3\\lib\\site-packages (from werkzeug>=1.0.1->tensorboard<2.14,>=2.13->tensorflow-intel==2.13.0->tensorflow) (2.1.1)\n",
      "Requirement already satisfied: pyasn1<0.5.0,>=0.4.6 in c:\\users\\riya\\anaconda3\\lib\\site-packages (from pyasn1-modules>=0.2.1->google-auth<3,>=1.6.3->tensorboard<2.14,>=2.13->tensorflow-intel==2.13.0->tensorflow) (0.4.8)\n",
      "Requirement already satisfied: oauthlib>=3.0.0 in c:\\users\\riya\\anaconda3\\lib\\site-packages (from requests-oauthlib>=0.7.0->google-auth-oauthlib<1.1,>=0.5->tensorboard<2.14,>=2.13->tensorflow-intel==2.13.0->tensorflow) (3.2.2)\n"
     ]
    }
   ],
   "source": [
    "!pip install tensorflow\n"
   ]
  },
  {
   "cell_type": "code",
   "execution_count": 178,
   "id": "21407213",
   "metadata": {},
   "outputs": [],
   "source": [
    "import tensorflow as tf"
   ]
  },
  {
   "cell_type": "code",
   "execution_count": 179,
   "id": "480f421a",
   "metadata": {},
   "outputs": [],
   "source": [
    "from sklearn.preprocessing import MinMaxScaler"
   ]
  },
  {
   "cell_type": "code",
   "execution_count": 180,
   "id": "89ddc312",
   "metadata": {},
   "outputs": [],
   "source": [
    "from tensorflow.keras.models import Sequential"
   ]
  },
  {
   "cell_type": "code",
   "execution_count": 181,
   "id": "1cea80b1",
   "metadata": {},
   "outputs": [],
   "source": [
    "from tensorflow.keras.layers import LSTM, Dense, Dropout\n"
   ]
  },
  {
   "cell_type": "code",
   "execution_count": 182,
   "id": "a5f55d54",
   "metadata": {},
   "outputs": [],
   "source": [
    "df = pd.read_csv('HEROMOTOCO.csv')"
   ]
  },
  {
   "cell_type": "code",
   "execution_count": 183,
   "id": "1cb791b3",
   "metadata": {},
   "outputs": [
    {
     "data": {
      "text/html": [
       "<div>\n",
       "<style scoped>\n",
       "    .dataframe tbody tr th:only-of-type {\n",
       "        vertical-align: middle;\n",
       "    }\n",
       "\n",
       "    .dataframe tbody tr th {\n",
       "        vertical-align: top;\n",
       "    }\n",
       "\n",
       "    .dataframe thead th {\n",
       "        text-align: right;\n",
       "    }\n",
       "</style>\n",
       "<table border=\"1\" class=\"dataframe\">\n",
       "  <thead>\n",
       "    <tr style=\"text-align: right;\">\n",
       "      <th></th>\n",
       "      <th>Date</th>\n",
       "      <th>Symbol</th>\n",
       "      <th>Series</th>\n",
       "      <th>Prev Close</th>\n",
       "      <th>Open</th>\n",
       "      <th>High</th>\n",
       "      <th>Low</th>\n",
       "      <th>Last</th>\n",
       "      <th>Close</th>\n",
       "      <th>VWAP</th>\n",
       "      <th>Volume</th>\n",
       "      <th>Turnover</th>\n",
       "      <th>Trades</th>\n",
       "      <th>Deliverable Volume</th>\n",
       "      <th>%Deliverble</th>\n",
       "    </tr>\n",
       "  </thead>\n",
       "  <tbody>\n",
       "    <tr>\n",
       "      <th>0</th>\n",
       "      <td>2000-01-03</td>\n",
       "      <td>HEROHONDA</td>\n",
       "      <td>EQ</td>\n",
       "      <td>1145.20</td>\n",
       "      <td>1200.0</td>\n",
       "      <td>1236.80</td>\n",
       "      <td>1171.00</td>\n",
       "      <td>1209.95</td>\n",
       "      <td>1207.60</td>\n",
       "      <td>1209.11</td>\n",
       "      <td>10631</td>\n",
       "      <td>1.285401e+12</td>\n",
       "      <td>NaN</td>\n",
       "      <td>NaN</td>\n",
       "      <td>NaN</td>\n",
       "    </tr>\n",
       "    <tr>\n",
       "      <th>1</th>\n",
       "      <td>2000-01-04</td>\n",
       "      <td>HEROHONDA</td>\n",
       "      <td>EQ</td>\n",
       "      <td>1207.60</td>\n",
       "      <td>1200.0</td>\n",
       "      <td>1220.00</td>\n",
       "      <td>1176.00</td>\n",
       "      <td>1200.00</td>\n",
       "      <td>1199.85</td>\n",
       "      <td>1200.93</td>\n",
       "      <td>19849</td>\n",
       "      <td>2.383719e+12</td>\n",
       "      <td>NaN</td>\n",
       "      <td>NaN</td>\n",
       "      <td>NaN</td>\n",
       "    </tr>\n",
       "    <tr>\n",
       "      <th>2</th>\n",
       "      <td>2000-01-05</td>\n",
       "      <td>HEROHONDA</td>\n",
       "      <td>EQ</td>\n",
       "      <td>1199.85</td>\n",
       "      <td>1155.0</td>\n",
       "      <td>1178.00</td>\n",
       "      <td>1140.00</td>\n",
       "      <td>1140.00</td>\n",
       "      <td>1143.80</td>\n",
       "      <td>1159.74</td>\n",
       "      <td>2525</td>\n",
       "      <td>2.928355e+11</td>\n",
       "      <td>NaN</td>\n",
       "      <td>NaN</td>\n",
       "      <td>NaN</td>\n",
       "    </tr>\n",
       "    <tr>\n",
       "      <th>3</th>\n",
       "      <td>2000-01-06</td>\n",
       "      <td>HEROHONDA</td>\n",
       "      <td>EQ</td>\n",
       "      <td>1143.80</td>\n",
       "      <td>1183.0</td>\n",
       "      <td>1189.95</td>\n",
       "      <td>1150.25</td>\n",
       "      <td>1165.00</td>\n",
       "      <td>1161.40</td>\n",
       "      <td>1167.29</td>\n",
       "      <td>4375</td>\n",
       "      <td>5.106887e+11</td>\n",
       "      <td>NaN</td>\n",
       "      <td>NaN</td>\n",
       "      <td>NaN</td>\n",
       "    </tr>\n",
       "    <tr>\n",
       "      <th>4</th>\n",
       "      <td>2000-01-07</td>\n",
       "      <td>HEROHONDA</td>\n",
       "      <td>EQ</td>\n",
       "      <td>1161.40</td>\n",
       "      <td>1140.0</td>\n",
       "      <td>1140.00</td>\n",
       "      <td>1069.00</td>\n",
       "      <td>1105.00</td>\n",
       "      <td>1106.55</td>\n",
       "      <td>1103.52</td>\n",
       "      <td>9093</td>\n",
       "      <td>1.003429e+12</td>\n",
       "      <td>NaN</td>\n",
       "      <td>NaN</td>\n",
       "      <td>NaN</td>\n",
       "    </tr>\n",
       "  </tbody>\n",
       "</table>\n",
       "</div>"
      ],
      "text/plain": [
       "         Date     Symbol Series  Prev Close    Open     High      Low  \\\n",
       "0  2000-01-03  HEROHONDA     EQ     1145.20  1200.0  1236.80  1171.00   \n",
       "1  2000-01-04  HEROHONDA     EQ     1207.60  1200.0  1220.00  1176.00   \n",
       "2  2000-01-05  HEROHONDA     EQ     1199.85  1155.0  1178.00  1140.00   \n",
       "3  2000-01-06  HEROHONDA     EQ     1143.80  1183.0  1189.95  1150.25   \n",
       "4  2000-01-07  HEROHONDA     EQ     1161.40  1140.0  1140.00  1069.00   \n",
       "\n",
       "      Last    Close     VWAP  Volume      Turnover  Trades  \\\n",
       "0  1209.95  1207.60  1209.11   10631  1.285401e+12     NaN   \n",
       "1  1200.00  1199.85  1200.93   19849  2.383719e+12     NaN   \n",
       "2  1140.00  1143.80  1159.74    2525  2.928355e+11     NaN   \n",
       "3  1165.00  1161.40  1167.29    4375  5.106887e+11     NaN   \n",
       "4  1105.00  1106.55  1103.52    9093  1.003429e+12     NaN   \n",
       "\n",
       "   Deliverable Volume  %Deliverble  \n",
       "0                 NaN          NaN  \n",
       "1                 NaN          NaN  \n",
       "2                 NaN          NaN  \n",
       "3                 NaN          NaN  \n",
       "4                 NaN          NaN  "
      ]
     },
     "execution_count": 183,
     "metadata": {},
     "output_type": "execute_result"
    }
   ],
   "source": [
    "df.head()"
   ]
  },
  {
   "cell_type": "code",
   "execution_count": 186,
   "id": "b4da8640",
   "metadata": {},
   "outputs": [],
   "source": [
    "data = df['Close'].values.reshape(-1, 1)\n"
   ]
  },
  {
   "cell_type": "code",
   "execution_count": 187,
   "id": "c5125545",
   "metadata": {},
   "outputs": [
    {
     "name": "stdout",
     "output_type": "stream",
     "text": [
      "Index(['Date', 'Symbol', 'Series', 'Prev Close', 'Open', 'High', 'Low', 'Last',\n",
      "       'Close', 'VWAP', 'Volume', 'Turnover', 'Trades', 'Deliverable Volume',\n",
      "       '%Deliverble'],\n",
      "      dtype='object')\n"
     ]
    }
   ],
   "source": [
    "print(df.columns)\n"
   ]
  },
  {
   "cell_type": "code",
   "execution_count": 190,
   "id": "4d6bdd68",
   "metadata": {},
   "outputs": [
    {
     "name": "stdout",
     "output_type": "stream",
     "text": [
      "float64\n"
     ]
    }
   ],
   "source": [
    "print(df['Close'].dtypes)\n"
   ]
  },
  {
   "cell_type": "code",
   "execution_count": 191,
   "id": "99b0e669",
   "metadata": {},
   "outputs": [],
   "source": [
    "scaler = MinMaxScaler()"
   ]
  },
  {
   "cell_type": "code",
   "execution_count": 192,
   "id": "cbb071a7",
   "metadata": {},
   "outputs": [],
   "source": [
    "data = scaler.fit_transform(data)"
   ]
  },
  {
   "cell_type": "code",
   "execution_count": 193,
   "id": "8d81bfda",
   "metadata": {},
   "outputs": [],
   "source": [
    "train_size = int(len(data) * 0.8)"
   ]
  },
  {
   "cell_type": "code",
   "execution_count": 194,
   "id": "5c7e4d06",
   "metadata": {},
   "outputs": [],
   "source": [
    "# Split the data into training and testing sets"
   ]
  },
  {
   "cell_type": "code",
   "execution_count": 195,
   "id": "9b88100b",
   "metadata": {},
   "outputs": [],
   "source": [
    "train_data = data[:train_size]"
   ]
  },
  {
   "cell_type": "code",
   "execution_count": 196,
   "id": "89d6d2eb",
   "metadata": {},
   "outputs": [],
   "source": [
    "test_data = data[train_size:]"
   ]
  },
  {
   "cell_type": "code",
   "execution_count": 197,
   "id": "046dc9b2",
   "metadata": {},
   "outputs": [],
   "source": [
    "# Define a function to create sequences for the LSTM model"
   ]
  },
  {
   "cell_type": "code",
   "execution_count": 198,
   "id": "8d1ba892",
   "metadata": {},
   "outputs": [],
   "source": [
    "def create_sequences(data, seq_length):\n",
    "    sequences = []\n",
    "    for i in range(len(data) - seq_length):\n",
    "        sequence = data[i:i+seq_length]\n",
    "        sequences.append(sequence)\n",
    "    return np.array(sequences)"
   ]
  },
  {
   "cell_type": "code",
   "execution_count": 199,
   "id": "849c2aed",
   "metadata": {},
   "outputs": [],
   "source": [
    "# Set the sequence length (number of time steps)\n"
   ]
  },
  {
   "cell_type": "code",
   "execution_count": 200,
   "id": "06a529bf",
   "metadata": {},
   "outputs": [],
   "source": [
    "seq_length=10"
   ]
  },
  {
   "cell_type": "code",
   "execution_count": 201,
   "id": "b6dcc907",
   "metadata": {},
   "outputs": [],
   "source": [
    "# Create sequences for training and testing"
   ]
  },
  {
   "cell_type": "code",
   "execution_count": 202,
   "id": "2e213e3a",
   "metadata": {},
   "outputs": [],
   "source": [
    "X_train = create_sequences(train_data, seq_length)"
   ]
  },
  {
   "cell_type": "code",
   "execution_count": 203,
   "id": "6a9a05f7",
   "metadata": {},
   "outputs": [],
   "source": [
    "X_test = create_sequences(test_data, seq_length)"
   ]
  },
  {
   "cell_type": "code",
   "execution_count": 204,
   "id": "3ec51547",
   "metadata": {},
   "outputs": [],
   "source": [
    "y_train = train_data[seq_length:]"
   ]
  },
  {
   "cell_type": "code",
   "execution_count": 205,
   "id": "5072956b",
   "metadata": {},
   "outputs": [],
   "source": [
    "y_test = test_data[seq_length:]"
   ]
  },
  {
   "cell_type": "code",
   "execution_count": 206,
   "id": "edfb28ff",
   "metadata": {},
   "outputs": [],
   "source": [
    "model = Sequential()"
   ]
  },
  {
   "cell_type": "code",
   "execution_count": 207,
   "id": "8e126b00",
   "metadata": {},
   "outputs": [],
   "source": [
    "X_train = X_train.reshape(X_train.shape[0], seq_length, 1)\n",
    "X_test = X_test.reshape(X_test.shape[0], seq_length, 1)\n"
   ]
  },
  {
   "cell_type": "code",
   "execution_count": 208,
   "id": "df6676bc",
   "metadata": {},
   "outputs": [],
   "source": [
    "y_train = train_data[seq_length:]\n",
    "y_test = test_data[seq_length:]\n"
   ]
  },
  {
   "cell_type": "code",
   "execution_count": 209,
   "id": "2faa617a",
   "metadata": {},
   "outputs": [],
   "source": [
    "\n",
    "model = Sequential()"
   ]
  },
  {
   "cell_type": "code",
   "execution_count": 210,
   "id": "c7d4c220",
   "metadata": {},
   "outputs": [],
   "source": [
    "model.add(LSTM(units=50, activation='relu', return_sequences=True, input_shape=(seq_length, 1)))\n",
    "model.add(LSTM(units=50, activation='relu', return_sequences=True))\n",
    "model.add(LSTM(units=50, activation='relu'))\n",
    "model.add(Dense(units=1))  # Output layer\n"
   ]
  },
  {
   "cell_type": "code",
   "execution_count": 211,
   "id": "7eb0fb80",
   "metadata": {},
   "outputs": [],
   "source": [
    "model.compile(optimizer='adam', loss='mean_squared_error')"
   ]
  },
  {
   "cell_type": "code",
   "execution_count": 212,
   "id": "493ce582",
   "metadata": {},
   "outputs": [
    {
     "name": "stdout",
     "output_type": "stream",
     "text": [
      "Model: \"sequential_7\"\n",
      "_________________________________________________________________\n",
      " Layer (type)                Output Shape              Param #   \n",
      "=================================================================\n",
      " lstm_18 (LSTM)              (None, 10, 50)            10400     \n",
      "                                                                 \n",
      " lstm_19 (LSTM)              (None, 10, 50)            20200     \n",
      "                                                                 \n",
      " lstm_20 (LSTM)              (None, 50)                20200     \n",
      "                                                                 \n",
      " dense_4 (Dense)             (None, 1)                 51        \n",
      "                                                                 \n",
      "=================================================================\n",
      "Total params: 50851 (198.64 KB)\n",
      "Trainable params: 50851 (198.64 KB)\n",
      "Non-trainable params: 0 (0.00 Byte)\n",
      "_________________________________________________________________\n"
     ]
    }
   ],
   "source": [
    "model.summary()"
   ]
  },
  {
   "cell_type": "code",
   "execution_count": 213,
   "id": "21942b71",
   "metadata": {},
   "outputs": [
    {
     "name": "stdout",
     "output_type": "stream",
     "text": [
      "Epoch 1/50\n",
      "67/67 [==============================] - 8s 29ms/step - loss: 0.0312 - val_loss: 0.0027\n",
      "Epoch 2/50\n",
      "67/67 [==============================] - 2s 23ms/step - loss: 3.7763e-04 - val_loss: 0.0022\n",
      "Epoch 3/50\n",
      "67/67 [==============================] - 2s 23ms/step - loss: 3.5350e-04 - val_loss: 0.0019\n",
      "Epoch 4/50\n",
      "67/67 [==============================] - 2s 23ms/step - loss: 3.4823e-04 - val_loss: 9.7112e-04\n",
      "Epoch 5/50\n",
      "67/67 [==============================] - 1s 22ms/step - loss: 3.1286e-04 - val_loss: 9.9392e-04\n",
      "Epoch 6/50\n",
      "67/67 [==============================] - 2s 23ms/step - loss: 3.0641e-04 - val_loss: 9.4573e-04\n",
      "Epoch 7/50\n",
      "67/67 [==============================] - 2s 23ms/step - loss: 3.0247e-04 - val_loss: 0.0014\n",
      "Epoch 8/50\n",
      "67/67 [==============================] - 2s 22ms/step - loss: 3.3480e-04 - val_loss: 9.5571e-04\n",
      "Epoch 9/50\n",
      "67/67 [==============================] - 2s 25ms/step - loss: 3.0994e-04 - val_loss: 8.3825e-04\n",
      "Epoch 10/50\n",
      "67/67 [==============================] - 2s 28ms/step - loss: 3.0041e-04 - val_loss: 8.0174e-04\n",
      "Epoch 11/50\n",
      "67/67 [==============================] - 2s 28ms/step - loss: 2.9063e-04 - val_loss: 7.9024e-04\n",
      "Epoch 12/50\n",
      "67/67 [==============================] - 2s 27ms/step - loss: 2.7679e-04 - val_loss: 8.0233e-04\n",
      "Epoch 13/50\n",
      "67/67 [==============================] - 2s 29ms/step - loss: 2.9396e-04 - val_loss: 0.0019\n",
      "Epoch 14/50\n",
      "67/67 [==============================] - 2s 27ms/step - loss: 3.1724e-04 - val_loss: 0.0012\n",
      "Epoch 15/50\n",
      "67/67 [==============================] - 2s 25ms/step - loss: 2.6819e-04 - val_loss: 6.6187e-04\n",
      "Epoch 16/50\n",
      "67/67 [==============================] - 1s 22ms/step - loss: 2.6076e-04 - val_loss: 9.4487e-04\n",
      "Epoch 17/50\n",
      "67/67 [==============================] - 2s 27ms/step - loss: 2.4696e-04 - val_loss: 6.2083e-04\n",
      "Epoch 18/50\n",
      "67/67 [==============================] - 2s 23ms/step - loss: 2.1344e-04 - val_loss: 4.6924e-04\n",
      "Epoch 19/50\n",
      "67/67 [==============================] - 2s 27ms/step - loss: 1.8466e-04 - val_loss: 4.3069e-04\n",
      "Epoch 20/50\n",
      "67/67 [==============================] - 2s 23ms/step - loss: 1.7914e-04 - val_loss: 0.0011\n",
      "Epoch 21/50\n",
      "67/67 [==============================] - 2s 27ms/step - loss: 1.9799e-04 - val_loss: 3.9670e-04\n",
      "Epoch 22/50\n",
      "67/67 [==============================] - 2s 24ms/step - loss: 1.6156e-04 - val_loss: 4.3977e-04\n",
      "Epoch 23/50\n",
      "67/67 [==============================] - 2s 26ms/step - loss: 1.6948e-04 - val_loss: 3.7256e-04\n",
      "Epoch 24/50\n",
      "67/67 [==============================] - 2s 25ms/step - loss: 1.5530e-04 - val_loss: 7.1791e-04\n",
      "Epoch 25/50\n",
      "67/67 [==============================] - 2s 24ms/step - loss: 1.9593e-04 - val_loss: 3.8263e-04\n",
      "Epoch 26/50\n",
      "67/67 [==============================] - 2s 23ms/step - loss: 1.5644e-04 - val_loss: 4.7497e-04\n",
      "Epoch 27/50\n",
      "67/67 [==============================] - 2s 25ms/step - loss: 1.5098e-04 - val_loss: 3.9202e-04\n",
      "Epoch 28/50\n",
      "67/67 [==============================] - 2s 23ms/step - loss: 1.6062e-04 - val_loss: 3.4740e-04\n",
      "Epoch 29/50\n",
      "67/67 [==============================] - 2s 26ms/step - loss: 1.4694e-04 - val_loss: 3.6821e-04\n",
      "Epoch 30/50\n",
      "67/67 [==============================] - 2s 25ms/step - loss: 1.3293e-04 - val_loss: 7.0037e-04\n",
      "Epoch 31/50\n",
      "67/67 [==============================] - 2s 26ms/step - loss: 1.5823e-04 - val_loss: 5.2307e-04\n",
      "Epoch 32/50\n",
      "67/67 [==============================] - 2s 25ms/step - loss: 1.6528e-04 - val_loss: 5.5756e-04\n",
      "Epoch 33/50\n",
      "67/67 [==============================] - 2s 24ms/step - loss: 1.4800e-04 - val_loss: 3.8551e-04\n",
      "Epoch 34/50\n",
      "67/67 [==============================] - 2s 26ms/step - loss: 1.4150e-04 - val_loss: 3.0530e-04\n",
      "Epoch 35/50\n",
      "67/67 [==============================] - 2s 25ms/step - loss: 1.3031e-04 - val_loss: 3.2534e-04\n",
      "Epoch 36/50\n",
      "67/67 [==============================] - 2s 24ms/step - loss: 1.2878e-04 - val_loss: 3.4752e-04\n",
      "Epoch 37/50\n",
      "67/67 [==============================] - 2s 23ms/step - loss: 1.4123e-04 - val_loss: 2.9737e-04\n",
      "Epoch 38/50\n",
      "67/67 [==============================] - 2s 24ms/step - loss: 1.3285e-04 - val_loss: 6.3989e-04\n",
      "Epoch 39/50\n",
      "67/67 [==============================] - 2s 24ms/step - loss: 1.2872e-04 - val_loss: 7.5405e-04\n",
      "Epoch 40/50\n",
      "67/67 [==============================] - 2s 27ms/step - loss: 1.2249e-04 - val_loss: 2.8842e-04\n",
      "Epoch 41/50\n",
      "67/67 [==============================] - 2s 25ms/step - loss: 1.2363e-04 - val_loss: 5.0011e-04\n",
      "Epoch 42/50\n",
      "67/67 [==============================] - 2s 28ms/step - loss: 1.3566e-04 - val_loss: 4.2408e-04\n",
      "Epoch 43/50\n",
      "67/67 [==============================] - 1s 22ms/step - loss: 1.2074e-04 - val_loss: 2.8340e-04\n",
      "Epoch 44/50\n",
      "67/67 [==============================] - 2s 26ms/step - loss: 1.5609e-04 - val_loss: 2.7834e-04\n",
      "Epoch 45/50\n",
      "67/67 [==============================] - 2s 23ms/step - loss: 1.1344e-04 - val_loss: 3.6294e-04\n",
      "Epoch 46/50\n",
      "67/67 [==============================] - 2s 25ms/step - loss: 1.1851e-04 - val_loss: 3.0603e-04\n",
      "Epoch 47/50\n",
      "67/67 [==============================] - 2s 23ms/step - loss: 1.1425e-04 - val_loss: 4.5601e-04\n",
      "Epoch 48/50\n",
      "67/67 [==============================] - 2s 27ms/step - loss: 1.2548e-04 - val_loss: 2.5125e-04\n",
      "Epoch 49/50\n",
      "67/67 [==============================] - 2s 24ms/step - loss: 1.2607e-04 - val_loss: 2.5264e-04\n",
      "Epoch 50/50\n",
      "67/67 [==============================] - 2s 26ms/step - loss: 1.0691e-04 - val_loss: 2.6158e-04\n"
     ]
    }
   ],
   "source": [
    "history = model.fit(X_train, y_train, epochs=50, batch_size=64, validation_data=(X_test, y_test), verbose=1)\n"
   ]
  },
  {
   "cell_type": "code",
   "execution_count": 220,
   "id": "144e8563",
   "metadata": {},
   "outputs": [
    {
     "data": {
      "image/png": "[encoded data removed]",
      "text/plain": [
       "<Figure size 1200x600 with 1 Axes>"
      ]
     },
     "metadata": {},
     "output_type": "display_data"
    }
   ],
   "source": [
    "plt.figure(figsize=(12, 6))\n",
    "plt.plot(history.history['loss'], label='Training Loss')\n",
    "plt.plot(history.history['val_loss'], label='Validation Loss')\n",
    "plt.legend()\n",
    "plt.title('Training and Validation Loss')\n",
    "plt.xlabel('Epochs')\n",
    "plt.ylabel('Loss')\n",
    "plt.show()\n"
   ]
  },
  {
   "cell_type": "code",
   "execution_count": 221,
   "id": "7d3fcfd8",
   "metadata": {
    "scrolled": true
   },
   "outputs": [
    {
     "name": "stdout",
     "output_type": "stream",
     "text": [
      "33/33 [==============================] - 0s 6ms/step\n"
     ]
    }
   ],
   "source": [
    "\n",
    "predicted_stock_price = model.predict(X_test)\n",
    "\n"
   ]
  },
  {
   "cell_type": "code",
   "execution_count": 222,
   "id": "434aa483",
   "metadata": {},
   "outputs": [],
   "source": [
    "predicted_stock_price = scaler.inverse_transform(predicted_stock_price)"
   ]
  },
  {
   "cell_type": "code",
   "execution_count": 223,
   "id": "67a41532",
   "metadata": {},
   "outputs": [],
   "source": [
    "plot_dates = df.index[train_size + seq_length:train_size + seq_length + len(test_data)]\n",
    "test_data = test_data[:len(plot_dates)] "
   ]
  },
  {
   "cell_type": "code",
   "execution_count": 224,
   "id": "fc98c578",
   "metadata": {},
   "outputs": [
    {
     "data": {
      "image/png": "[encoded data removed]",
      "text/plain": [
       "<Figure size 1200x600 with 1 Axes>"
      ]
     },
     "metadata": {},
     "output_type": "display_data"
    }
   ],
   "source": [
    "plt.figure(figsize=(12, 6))\n",
    "plt.plot(plot_dates, test_data, label='Actual Stock Price', color='blue')\n",
    "plt.plot(plot_dates, predicted_stock_price, label='Predicted Stock Price', color='red')\n",
    "plt.legend()\n",
    "plt.title('Hero moto cop Stock Price Prediction')\n",
    "plt.xlabel('Date')\n",
    "plt.ylabel('Stock Price')\n",
    "plt.show()"
   ]
  },
  {
   "cell_type": "code",
   "execution_count": null,
   "id": "abafb8e9",
   "metadata": {},
   "outputs": [],
   "source": []
  },
  {
   "cell_type": "code",
   "execution_count": null,
   "id": "a7b90a28",
   "metadata": {},
   "outputs": [],
   "source": []
  },
  {
   "cell_type": "code",
   "execution_count": null,
   "id": "3413a045",
   "metadata": {},
   "outputs": [],
   "source": []
  },
  {
   "cell_type": "code",
   "execution_count": null,
   "id": "c1ab2917",
   "metadata": {},
   "outputs": [],
   "source": []
  }
 ],
 "metadata": {
  "kernelspec": {
   "display_name": "Python 3 (ipykernel)",
   "language": "python",
   "name": "python3"
  },
  "language_info": {
   "codemirror_mode": {
    "name": "ipython",
    "version": 3
   },
   "file_extension": ".py",
   "mimetype": "text/x-python",
   "name": "python",
   "nbconvert_exporter": "python",
   "pygments_lexer": "ipython3",
   "version": "3.11.4"
  }
 },
 "nbformat": 4,
 "nbformat_minor": 5
}
